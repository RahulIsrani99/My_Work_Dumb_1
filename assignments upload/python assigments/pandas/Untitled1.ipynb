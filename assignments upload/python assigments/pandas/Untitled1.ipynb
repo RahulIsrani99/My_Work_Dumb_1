{
 "cells": [
  {
   "cell_type": "code",
   "execution_count": 1,
   "id": "540a02dc",
   "metadata": {},
   "outputs": [],
   "source": [
    "import pandas as pd\n",
    "import numpy as np\n",
    "import matplotlib as mp"
   ]
  },
  {
   "cell_type": "code",
   "execution_count": 2,
   "id": "8086eac8",
   "metadata": {},
   "outputs": [],
   "source": [
    "df = pd.read_csv(\"friends.csv\")"
   ]
  },
  {
   "cell_type": "code",
   "execution_count": 3,
   "id": "2f039229",
   "metadata": {},
   "outputs": [
    {
     "data": {
      "text/html": [
       "<div>\n",
       "<style scoped>\n",
       "    .dataframe tbody tr th:only-of-type {\n",
       "        vertical-align: middle;\n",
       "    }\n",
       "\n",
       "    .dataframe tbody tr th {\n",
       "        vertical-align: top;\n",
       "    }\n",
       "\n",
       "    .dataframe thead th {\n",
       "        text-align: right;\n",
       "    }\n",
       "</style>\n",
       "<table border=\"1\" class=\"dataframe\">\n",
       "  <thead>\n",
       "    <tr style=\"text-align: right;\">\n",
       "      <th></th>\n",
       "      <th>Unnamed: 0</th>\n",
       "      <th>roomno</th>\n",
       "      <th>hotelno</th>\n",
       "      <th>address</th>\n",
       "      <th>das</th>\n",
       "      <th>dsadsa</th>\n",
       "      <th>dssadadsa</th>\n",
       "    </tr>\n",
       "  </thead>\n",
       "  <tbody>\n",
       "    <tr>\n",
       "      <th>0</th>\n",
       "      <td>0</td>\n",
       "      <td>['1']</td>\n",
       "      <td>['2']</td>\n",
       "      <td>['idk']</td>\n",
       "      <td>['dasdsa']</td>\n",
       "      <td>['dsadsa']</td>\n",
       "      <td>NaN</td>\n",
       "    </tr>\n",
       "    <tr>\n",
       "      <th>1</th>\n",
       "      <td>1</td>\n",
       "      <td>['2']</td>\n",
       "      <td>['3']</td>\n",
       "      <td>['igk']</td>\n",
       "      <td>['dasdsdsaa']</td>\n",
       "      <td>NaN</td>\n",
       "      <td>['dsdsadsadsa']</td>\n",
       "    </tr>\n",
       "  </tbody>\n",
       "</table>\n",
       "</div>"
      ],
      "text/plain": [
       "   Unnamed: 0 roomno hotelno  address            das      dsadsa  \\\n",
       "0           0  ['1']   ['2']  ['idk']     ['dasdsa']  ['dsadsa']   \n",
       "1           1  ['2']   ['3']  ['igk']  ['dasdsdsaa']         NaN   \n",
       "\n",
       "         dssadadsa  \n",
       "0              NaN  \n",
       "1  ['dsdsadsadsa']  "
      ]
     },
     "execution_count": 3,
     "metadata": {},
     "output_type": "execute_result"
    }
   ],
   "source": [
    "df"
   ]
  },
  {
   "cell_type": "code",
   "execution_count": 4,
   "id": "ff4e5ea2",
   "metadata": {},
   "outputs": [],
   "source": [
    "data = {\"product_name\":[\"Keyboard\",\"Mouse\", \"Monitor\", \"CPU\",\"CPU\", \"Speakers\",pd.NaT],\n",
    "        \"Unit_Price\":[500,200, 5000.235, 10000.550, 10000.550, 250.50,None],\n",
    "        \"No_Of_Units\":[5,5, 10, 20, 20, 8,pd.NaT],\n",
    "        \"Available_Quantity\":[5,6,10,\"Not Available\",\"Not Available\", pd.NaT,pd.NaT],\n",
    "        \"Available_Since_Date\":['11/5/2021', '4/23/2021', '08/21/2021','09/18/2021','09/18/2021','01/05/2021',pd.NaT]\n",
    "       }\n"
   ]
  },
  {
   "cell_type": "code",
   "execution_count": 5,
   "id": "837b74f3",
   "metadata": {},
   "outputs": [],
   "source": [
    "datas=pd.DataFrame(data)"
   ]
  },
  {
   "cell_type": "code",
   "execution_count": 6,
   "id": "d7bf5ea1",
   "metadata": {},
   "outputs": [
    {
     "data": {
      "text/html": [
       "<div>\n",
       "<style scoped>\n",
       "    .dataframe tbody tr th:only-of-type {\n",
       "        vertical-align: middle;\n",
       "    }\n",
       "\n",
       "    .dataframe tbody tr th {\n",
       "        vertical-align: top;\n",
       "    }\n",
       "\n",
       "    .dataframe thead th {\n",
       "        text-align: right;\n",
       "    }\n",
       "</style>\n",
       "<table border=\"1\" class=\"dataframe\">\n",
       "  <thead>\n",
       "    <tr style=\"text-align: right;\">\n",
       "      <th></th>\n",
       "      <th>product_name</th>\n",
       "      <th>Unit_Price</th>\n",
       "      <th>No_Of_Units</th>\n",
       "      <th>Available_Quantity</th>\n",
       "      <th>Available_Since_Date</th>\n",
       "    </tr>\n",
       "  </thead>\n",
       "  <tbody>\n",
       "    <tr>\n",
       "      <th>0</th>\n",
       "      <td>Keyboard</td>\n",
       "      <td>500.000</td>\n",
       "      <td>5</td>\n",
       "      <td>5</td>\n",
       "      <td>11/5/2021</td>\n",
       "    </tr>\n",
       "    <tr>\n",
       "      <th>1</th>\n",
       "      <td>Mouse</td>\n",
       "      <td>200.000</td>\n",
       "      <td>5</td>\n",
       "      <td>6</td>\n",
       "      <td>4/23/2021</td>\n",
       "    </tr>\n",
       "    <tr>\n",
       "      <th>2</th>\n",
       "      <td>Monitor</td>\n",
       "      <td>5000.235</td>\n",
       "      <td>10</td>\n",
       "      <td>10</td>\n",
       "      <td>08/21/2021</td>\n",
       "    </tr>\n",
       "    <tr>\n",
       "      <th>3</th>\n",
       "      <td>CPU</td>\n",
       "      <td>10000.550</td>\n",
       "      <td>20</td>\n",
       "      <td>Not Available</td>\n",
       "      <td>09/18/2021</td>\n",
       "    </tr>\n",
       "    <tr>\n",
       "      <th>4</th>\n",
       "      <td>CPU</td>\n",
       "      <td>10000.550</td>\n",
       "      <td>20</td>\n",
       "      <td>Not Available</td>\n",
       "      <td>09/18/2021</td>\n",
       "    </tr>\n",
       "    <tr>\n",
       "      <th>5</th>\n",
       "      <td>Speakers</td>\n",
       "      <td>250.500</td>\n",
       "      <td>8</td>\n",
       "      <td>NaT</td>\n",
       "      <td>01/05/2021</td>\n",
       "    </tr>\n",
       "    <tr>\n",
       "      <th>6</th>\n",
       "      <td>NaT</td>\n",
       "      <td>NaN</td>\n",
       "      <td>NaT</td>\n",
       "      <td>NaT</td>\n",
       "      <td>NaT</td>\n",
       "    </tr>\n",
       "  </tbody>\n",
       "</table>\n",
       "</div>"
      ],
      "text/plain": [
       "  product_name  Unit_Price No_Of_Units Available_Quantity Available_Since_Date\n",
       "0     Keyboard     500.000           5                  5            11/5/2021\n",
       "1        Mouse     200.000           5                  6            4/23/2021\n",
       "2      Monitor    5000.235          10                 10           08/21/2021\n",
       "3          CPU   10000.550          20      Not Available           09/18/2021\n",
       "4          CPU   10000.550          20      Not Available           09/18/2021\n",
       "5     Speakers     250.500           8                NaT           01/05/2021\n",
       "6          NaT         NaN         NaT                NaT                  NaT"
      ]
     },
     "execution_count": 6,
     "metadata": {},
     "output_type": "execute_result"
    }
   ],
   "source": [
    "datas"
   ]
  },
  {
   "cell_type": "code",
   "execution_count": 7,
   "id": "0833e97a",
   "metadata": {},
   "outputs": [],
   "source": [
    "datas.drop([5,6], axis=0, inplace=True)"
   ]
  },
  {
   "cell_type": "code",
   "execution_count": 8,
   "id": "5fb6ea67",
   "metadata": {},
   "outputs": [
    {
     "data": {
      "text/html": [
       "<div>\n",
       "<style scoped>\n",
       "    .dataframe tbody tr th:only-of-type {\n",
       "        vertical-align: middle;\n",
       "    }\n",
       "\n",
       "    .dataframe tbody tr th {\n",
       "        vertical-align: top;\n",
       "    }\n",
       "\n",
       "    .dataframe thead th {\n",
       "        text-align: right;\n",
       "    }\n",
       "</style>\n",
       "<table border=\"1\" class=\"dataframe\">\n",
       "  <thead>\n",
       "    <tr style=\"text-align: right;\">\n",
       "      <th></th>\n",
       "      <th>product_name</th>\n",
       "      <th>Unit_Price</th>\n",
       "      <th>No_Of_Units</th>\n",
       "      <th>Available_Quantity</th>\n",
       "      <th>Available_Since_Date</th>\n",
       "    </tr>\n",
       "  </thead>\n",
       "  <tbody>\n",
       "    <tr>\n",
       "      <th>0</th>\n",
       "      <td>Keyboard</td>\n",
       "      <td>500.000</td>\n",
       "      <td>5</td>\n",
       "      <td>5</td>\n",
       "      <td>11/5/2021</td>\n",
       "    </tr>\n",
       "    <tr>\n",
       "      <th>1</th>\n",
       "      <td>Mouse</td>\n",
       "      <td>200.000</td>\n",
       "      <td>5</td>\n",
       "      <td>6</td>\n",
       "      <td>4/23/2021</td>\n",
       "    </tr>\n",
       "    <tr>\n",
       "      <th>2</th>\n",
       "      <td>Monitor</td>\n",
       "      <td>5000.235</td>\n",
       "      <td>10</td>\n",
       "      <td>10</td>\n",
       "      <td>08/21/2021</td>\n",
       "    </tr>\n",
       "    <tr>\n",
       "      <th>3</th>\n",
       "      <td>CPU</td>\n",
       "      <td>10000.550</td>\n",
       "      <td>20</td>\n",
       "      <td>Not Available</td>\n",
       "      <td>09/18/2021</td>\n",
       "    </tr>\n",
       "    <tr>\n",
       "      <th>4</th>\n",
       "      <td>CPU</td>\n",
       "      <td>10000.550</td>\n",
       "      <td>20</td>\n",
       "      <td>Not Available</td>\n",
       "      <td>09/18/2021</td>\n",
       "    </tr>\n",
       "  </tbody>\n",
       "</table>\n",
       "</div>"
      ],
      "text/plain": [
       "  product_name  Unit_Price No_Of_Units Available_Quantity Available_Since_Date\n",
       "0     Keyboard     500.000           5                  5            11/5/2021\n",
       "1        Mouse     200.000           5                  6            4/23/2021\n",
       "2      Monitor    5000.235          10                 10           08/21/2021\n",
       "3          CPU   10000.550          20      Not Available           09/18/2021\n",
       "4          CPU   10000.550          20      Not Available           09/18/2021"
      ]
     },
     "execution_count": 8,
     "metadata": {},
     "output_type": "execute_result"
    }
   ],
   "source": [
    "datas"
   ]
  },
  {
   "cell_type": "code",
   "execution_count": 14,
   "id": "5f7e8491",
   "metadata": {},
   "outputs": [],
   "source": [
    "datas.drop(df.index[2:4], inplace=True)"
   ]
  },
  {
   "cell_type": "code",
   "execution_count": 15,
   "id": "c81ab4d0",
   "metadata": {},
   "outputs": [
    {
     "data": {
      "text/html": [
       "<div>\n",
       "<style scoped>\n",
       "    .dataframe tbody tr th:only-of-type {\n",
       "        vertical-align: middle;\n",
       "    }\n",
       "\n",
       "    .dataframe tbody tr th {\n",
       "        vertical-align: top;\n",
       "    }\n",
       "\n",
       "    .dataframe thead th {\n",
       "        text-align: right;\n",
       "    }\n",
       "</style>\n",
       "<table border=\"1\" class=\"dataframe\">\n",
       "  <thead>\n",
       "    <tr style=\"text-align: right;\">\n",
       "      <th></th>\n",
       "      <th>product_name</th>\n",
       "      <th>Unit_Price</th>\n",
       "      <th>No_Of_Units</th>\n",
       "      <th>Available_Quantity</th>\n",
       "      <th>Available_Since_Date</th>\n",
       "    </tr>\n",
       "  </thead>\n",
       "  <tbody>\n",
       "    <tr>\n",
       "      <th>0</th>\n",
       "      <td>Keyboard</td>\n",
       "      <td>500.000</td>\n",
       "      <td>5</td>\n",
       "      <td>5</td>\n",
       "      <td>11/5/2021</td>\n",
       "    </tr>\n",
       "    <tr>\n",
       "      <th>1</th>\n",
       "      <td>Mouse</td>\n",
       "      <td>200.000</td>\n",
       "      <td>5</td>\n",
       "      <td>6</td>\n",
       "      <td>4/23/2021</td>\n",
       "    </tr>\n",
       "    <tr>\n",
       "      <th>2</th>\n",
       "      <td>Monitor</td>\n",
       "      <td>5000.235</td>\n",
       "      <td>10</td>\n",
       "      <td>10</td>\n",
       "      <td>08/21/2021</td>\n",
       "    </tr>\n",
       "  </tbody>\n",
       "</table>\n",
       "</div>"
      ],
      "text/plain": [
       "  product_name  Unit_Price No_Of_Units Available_Quantity Available_Since_Date\n",
       "0     Keyboard     500.000           5                  5            11/5/2021\n",
       "1        Mouse     200.000           5                  6            4/23/2021\n",
       "2      Monitor    5000.235          10                 10           08/21/2021"
      ]
     },
     "execution_count": 15,
     "metadata": {},
     "output_type": "execute_result"
    }
   ],
   "source": [
    "datas"
   ]
  },
  {
   "cell_type": "code",
   "execution_count": 17,
   "id": "175e0f93",
   "metadata": {},
   "outputs": [
    {
     "data": {
      "text/html": [
       "<div>\n",
       "<style scoped>\n",
       "    .dataframe tbody tr th:only-of-type {\n",
       "        vertical-align: middle;\n",
       "    }\n",
       "\n",
       "    .dataframe tbody tr th {\n",
       "        vertical-align: top;\n",
       "    }\n",
       "\n",
       "    .dataframe thead th {\n",
       "        text-align: right;\n",
       "    }\n",
       "</style>\n",
       "<table border=\"1\" class=\"dataframe\">\n",
       "  <thead>\n",
       "    <tr style=\"text-align: right;\">\n",
       "      <th></th>\n",
       "      <th>product_name</th>\n",
       "      <th>Unit_Price</th>\n",
       "      <th>No_Of_Units</th>\n",
       "      <th>Available_Quantity</th>\n",
       "      <th>Available_Since_Date</th>\n",
       "    </tr>\n",
       "  </thead>\n",
       "  <tbody>\n",
       "    <tr>\n",
       "      <th>2</th>\n",
       "      <td>Monitor</td>\n",
       "      <td>5000.235</td>\n",
       "      <td>10</td>\n",
       "      <td>10</td>\n",
       "      <td>08/21/2021</td>\n",
       "    </tr>\n",
       "  </tbody>\n",
       "</table>\n",
       "</div>"
      ],
      "text/plain": [
       "  product_name  Unit_Price No_Of_Units Available_Quantity Available_Since_Date\n",
       "2      Monitor    5000.235          10                 10           08/21/2021"
      ]
     },
     "execution_count": 17,
     "metadata": {},
     "output_type": "execute_result"
    }
   ],
   "source": [
    "datas.drop(df.index[0:2], inplace=False)"
   ]
  },
  {
   "cell_type": "code",
   "execution_count": 19,
   "id": "7d8e8a29",
   "metadata": {},
   "outputs": [
    {
     "name": "stdout",
     "output_type": "stream",
     "text": [
      "    cars  passings\n",
      "0    BMW         3\n",
      "1  Volvo         7\n",
      "2   Ford         2\n"
     ]
    }
   ],
   "source": [
    "mydataset = {\n",
    "  'cars': [\"BMW\", \"Volvo\", \"Ford\"],\n",
    "  'passings': [3, 7, 2]\n",
    "}\n",
    "\n",
    "myvar = pd.DataFrame(mydataset)\n",
    "\n",
    "print(myvar)"
   ]
  },
  {
   "cell_type": "code",
   "execution_count": null,
   "id": "6e512a65",
   "metadata": {},
   "outputs": [],
   "source": []
  }
 ],
 "metadata": {
  "kernelspec": {
   "display_name": "Python 3 (ipykernel)",
   "language": "python",
   "name": "python3"
  },
  "language_info": {
   "codemirror_mode": {
    "name": "ipython",
    "version": 3
   },
   "file_extension": ".py",
   "mimetype": "text/x-python",
   "name": "python",
   "nbconvert_exporter": "python",
   "pygments_lexer": "ipython3",
   "version": "3.10.6"
  }
 },
 "nbformat": 4,
 "nbformat_minor": 5
}

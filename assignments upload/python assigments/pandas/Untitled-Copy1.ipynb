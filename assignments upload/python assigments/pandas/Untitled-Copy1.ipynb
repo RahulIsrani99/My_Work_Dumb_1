{
 "cells": [
  {
   "cell_type": "code",
   "execution_count": 1,
   "id": "e4964c43",
   "metadata": {},
   "outputs": [],
   "source": [
    "import numpy as np\n",
    "import pandas as pd\n",
    "import math"
   ]
  },
  {
   "cell_type": "code",
   "execution_count": 2,
   "id": "bda32f99",
   "metadata": {},
   "outputs": [],
   "source": [
    "data=[{'roomno':['1'],'hotelno':['2'],'address':['idk'],\n",
    "     'das':['dasdsa'],'dsadsa':['dsadsa']},\n",
    "     {'roomno':['2'],'hotelno':['3'],'address':['igk'],\n",
    "     'das':['dasdsdsaa'],'dssadadsa':['dsdsadsadsa']}]\n",
    "\n"
   ]
  },
  {
   "cell_type": "code",
   "execution_count": 3,
   "id": "cdc205cb",
   "metadata": {},
   "outputs": [],
   "source": [
    "pda= pd.DataFrame.from_dict(data)"
   ]
  },
  {
   "cell_type": "code",
   "execution_count": 4,
   "id": "9c6eecdb",
   "metadata": {},
   "outputs": [
    {
     "name": "stdout",
     "output_type": "stream",
     "text": [
      "  roomno hotelno address          das    dsadsa      dssadadsa\n",
      "0    [1]     [2]   [idk]     [dasdsa]  [dsadsa]            NaN\n",
      "1    [2]     [3]   [igk]  [dasdsdsaa]       NaN  [dsdsadsadsa]\n"
     ]
    }
   ],
   "source": [
    "print(pda)"
   ]
  },
  {
   "cell_type": "code",
   "execution_count": 5,
   "id": "406394eb",
   "metadata": {},
   "outputs": [],
   "source": [
    "na=pda.to_csv('friends.csv')"
   ]
  },
  {
   "cell_type": "code",
   "execution_count": null,
   "id": "26f4b879",
   "metadata": {},
   "outputs": [],
   "source": []
  },
  {
   "cell_type": "code",
   "execution_count": 6,
   "id": "c34cbc8d",
   "metadata": {},
   "outputs": [],
   "source": [
    "pf=pd.read_csv('friends.csv')"
   ]
  },
  {
   "cell_type": "code",
   "execution_count": 7,
   "id": "5b8cd9fd",
   "metadata": {},
   "outputs": [
    {
     "name": "stdout",
     "output_type": "stream",
     "text": [
      "   Unnamed: 0 roomno hotelno  address            das      dsadsa        dssadadsa\n",
      "0           0  ['1']   ['2']  ['idk']     ['dasdsa']  ['dsadsa']              NaN\n",
      "1           1  ['2']   ['3']  ['igk']  ['dasdsdsaa']         NaN  ['dsdsadsadsa']\n"
     ]
    }
   ],
   "source": [
    "print(pf.to_string())"
   ]
  },
  {
   "cell_type": "code",
   "execution_count": 8,
   "id": "5bba0aa8",
   "metadata": {},
   "outputs": [],
   "source": [
    "in_array = [0, math.pi / 2, np.pi / 3, np.pi]"
   ]
  },
  {
   "cell_type": "code",
   "execution_count": 9,
   "id": "17fabaa6",
   "metadata": {},
   "outputs": [
    {
     "name": "stdout",
     "output_type": "stream",
     "text": [
      "Input array : \n",
      " [0, 1.5707963267948966, 1.0471975511965976, 3.141592653589793]\n"
     ]
    }
   ],
   "source": [
    "print (\"Input array : \\n\", in_array)"
   ]
  },
  {
   "cell_type": "code",
   "execution_count": 14,
   "id": "72a248cd",
   "metadata": {},
   "outputs": [],
   "source": [
    "myarr=np.array([1,2,3,2,31,21,213,123,23,12,312,321,324,314,421,421])"
   ]
  },
  {
   "cell_type": "code",
   "execution_count": 15,
   "id": "9381de6d",
   "metadata": {},
   "outputs": [
    {
     "data": {
      "text/plain": [
       "array([  1,   2,   3,   2,  31,  21, 213, 123,  23,  12, 312, 321, 324,\n",
       "       314, 421, 421])"
      ]
     },
     "execution_count": 15,
     "metadata": {},
     "output_type": "execute_result"
    }
   ],
   "source": [
    "myarr"
   ]
  },
  {
   "cell_type": "code",
   "execution_count": 17,
   "id": "6604e84e",
   "metadata": {},
   "outputs": [
    {
     "data": {
      "text/plain": [
       "dtype('int32')"
      ]
     },
     "execution_count": 17,
     "metadata": {},
     "output_type": "execute_result"
    }
   ],
   "source": [
    "myarr.dtype"
   ]
  },
  {
   "cell_type": "code",
   "execution_count": 18,
   "id": "b81b280e",
   "metadata": {},
   "outputs": [
    {
     "data": {
      "text/plain": [
       "(16,)"
      ]
     },
     "execution_count": 18,
     "metadata": {},
     "output_type": "execute_result"
    }
   ],
   "source": [
    "myarr.shape"
   ]
  },
  {
   "cell_type": "code",
   "execution_count": 19,
   "id": "3cbae88e",
   "metadata": {},
   "outputs": [
    {
     "data": {
      "text/plain": [
       "array([[  1,   2,   3,   2],\n",
       "       [ 31,  21, 213, 123],\n",
       "       [ 23,  12, 312, 321],\n",
       "       [324, 314, 421, 421]])"
      ]
     },
     "execution_count": 19,
     "metadata": {},
     "output_type": "execute_result"
    }
   ],
   "source": [
    "myarr.reshape(4,4)"
   ]
  },
  {
   "cell_type": "code",
   "execution_count": 20,
   "id": "9f269dd1",
   "metadata": {},
   "outputs": [
    {
     "data": {
      "text/plain": [
       "(16,)"
      ]
     },
     "execution_count": 20,
     "metadata": {},
     "output_type": "execute_result"
    }
   ],
   "source": [
    "myarr.shape"
   ]
  },
  {
   "cell_type": "code",
   "execution_count": 21,
   "id": "f0f8f5e7",
   "metadata": {},
   "outputs": [],
   "source": [
    "myara=myarr.reshape(4,4)"
   ]
  },
  {
   "cell_type": "code",
   "execution_count": 22,
   "id": "da6de5a3",
   "metadata": {},
   "outputs": [
    {
     "data": {
      "text/plain": [
       "array([[  1,   2,   3,   2],\n",
       "       [ 31,  21, 213, 123],\n",
       "       [ 23,  12, 312, 321],\n",
       "       [324, 314, 421, 421]])"
      ]
     },
     "execution_count": 22,
     "metadata": {},
     "output_type": "execute_result"
    }
   ],
   "source": [
    "myara"
   ]
  },
  {
   "cell_type": "code",
   "execution_count": 23,
   "id": "ebc7fdc1",
   "metadata": {},
   "outputs": [
    {
     "data": {
      "text/plain": [
       "(4, 4)"
      ]
     },
     "execution_count": 23,
     "metadata": {},
     "output_type": "execute_result"
    }
   ],
   "source": [
    "myara.shape"
   ]
  },
  {
   "cell_type": "code",
   "execution_count": 35,
   "id": "9543749b",
   "metadata": {},
   "outputs": [],
   "source": [
    "lspace=np.linspace(25,50,11)"
   ]
  },
  {
   "cell_type": "code",
   "execution_count": 36,
   "id": "aac922f6",
   "metadata": {},
   "outputs": [
    {
     "data": {
      "text/plain": [
       "array([25. , 27.5, 30. , 32.5, 35. , 37.5, 40. , 42.5, 45. , 47.5, 50. ])"
      ]
     },
     "execution_count": 36,
     "metadata": {},
     "output_type": "execute_result"
    }
   ],
   "source": [
    "lspace"
   ]
  },
  {
   "cell_type": "code",
   "execution_count": 37,
   "id": "12eb4847",
   "metadata": {},
   "outputs": [],
   "source": [
    "data = {\"product_name\":[\"Keyboard\",\"Mouse\", \"Monitor\", \"CPU\",\"CPU\", \"Speakers\",pd.NaT],\n",
    "        \"Unit_Price\":[500,200, 5000.235, 10000.550, 10000.550, 250.50,None],\n",
    "        \"No_Of_Units\":[5,5, 10, 20, 20, 8,pd.NaT],\n",
    "        \"Available_Quantity\":[5,6,10,\"Not Available\",\"Not Available\", pd.NaT,pd.NaT],\n",
    "        \"Available_Since_Date\":['11/5/2021', '4/23/2021', '08/21/2021','09/18/2021','09/18/2021','01/05/2021',pd.NaT]\n",
    "       }\n"
   ]
  },
  {
   "cell_type": "code",
   "execution_count": 41,
   "id": "9576c75f",
   "metadata": {},
   "outputs": [
    {
     "data": {
      "text/html": [
       "<div>\n",
       "<style scoped>\n",
       "    .dataframe tbody tr th:only-of-type {\n",
       "        vertical-align: middle;\n",
       "    }\n",
       "\n",
       "    .dataframe tbody tr th {\n",
       "        vertical-align: top;\n",
       "    }\n",
       "\n",
       "    .dataframe thead th {\n",
       "        text-align: right;\n",
       "    }\n",
       "</style>\n",
       "<table border=\"1\" class=\"dataframe\">\n",
       "  <thead>\n",
       "    <tr style=\"text-align: right;\">\n",
       "      <th></th>\n",
       "      <th>product_name</th>\n",
       "      <th>Unit_Price</th>\n",
       "      <th>No_Of_Units</th>\n",
       "      <th>Available_Quantity</th>\n",
       "      <th>Available_Since_Date</th>\n",
       "    </tr>\n",
       "  </thead>\n",
       "  <tbody>\n",
       "    <tr>\n",
       "      <th>0</th>\n",
       "      <td>Keyboard</td>\n",
       "      <td>500.000</td>\n",
       "      <td>5</td>\n",
       "      <td>5</td>\n",
       "      <td>11/5/2021</td>\n",
       "    </tr>\n",
       "    <tr>\n",
       "      <th>1</th>\n",
       "      <td>Mouse</td>\n",
       "      <td>200.000</td>\n",
       "      <td>5</td>\n",
       "      <td>6</td>\n",
       "      <td>4/23/2021</td>\n",
       "    </tr>\n",
       "    <tr>\n",
       "      <th>2</th>\n",
       "      <td>Monitor</td>\n",
       "      <td>5000.235</td>\n",
       "      <td>10</td>\n",
       "      <td>10</td>\n",
       "      <td>08/21/2021</td>\n",
       "    </tr>\n",
       "    <tr>\n",
       "      <th>3</th>\n",
       "      <td>CPU</td>\n",
       "      <td>10000.550</td>\n",
       "      <td>20</td>\n",
       "      <td>Not Available</td>\n",
       "      <td>09/18/2021</td>\n",
       "    </tr>\n",
       "    <tr>\n",
       "      <th>4</th>\n",
       "      <td>CPU</td>\n",
       "      <td>10000.550</td>\n",
       "      <td>20</td>\n",
       "      <td>Not Available</td>\n",
       "      <td>09/18/2021</td>\n",
       "    </tr>\n",
       "    <tr>\n",
       "      <th>5</th>\n",
       "      <td>Speakers</td>\n",
       "      <td>250.500</td>\n",
       "      <td>8</td>\n",
       "      <td>NaT</td>\n",
       "      <td>01/05/2021</td>\n",
       "    </tr>\n",
       "    <tr>\n",
       "      <th>6</th>\n",
       "      <td>NaT</td>\n",
       "      <td>NaN</td>\n",
       "      <td>NaT</td>\n",
       "      <td>NaT</td>\n",
       "      <td>NaT</td>\n",
       "    </tr>\n",
       "  </tbody>\n",
       "</table>\n",
       "</div>"
      ],
      "text/plain": [
       "  product_name  Unit_Price No_Of_Units Available_Quantity Available_Since_Date\n",
       "0     Keyboard     500.000           5                  5            11/5/2021\n",
       "1        Mouse     200.000           5                  6            4/23/2021\n",
       "2      Monitor    5000.235          10                 10           08/21/2021\n",
       "3          CPU   10000.550          20      Not Available           09/18/2021\n",
       "4          CPU   10000.550          20      Not Available           09/18/2021\n",
       "5     Speakers     250.500           8                NaT           01/05/2021\n",
       "6          NaT         NaN         NaT                NaT                  NaT"
      ]
     },
     "execution_count": 41,
     "metadata": {},
     "output_type": "execute_result"
    }
   ],
   "source": [
    "df = pd.DataFrame(data)\n",
    "df"
   ]
  },
  {
   "cell_type": "code",
   "execution_count": 43,
   "id": "dc2db8d5",
   "metadata": {},
   "outputs": [],
   "source": [
    "df.drop([5,6], axis=0, inplace=True)"
   ]
  },
  {
   "cell_type": "code",
   "execution_count": 44,
   "id": "c3b0670f",
   "metadata": {},
   "outputs": [
    {
     "data": {
      "text/html": [
       "<div>\n",
       "<style scoped>\n",
       "    .dataframe tbody tr th:only-of-type {\n",
       "        vertical-align: middle;\n",
       "    }\n",
       "\n",
       "    .dataframe tbody tr th {\n",
       "        vertical-align: top;\n",
       "    }\n",
       "\n",
       "    .dataframe thead th {\n",
       "        text-align: right;\n",
       "    }\n",
       "</style>\n",
       "<table border=\"1\" class=\"dataframe\">\n",
       "  <thead>\n",
       "    <tr style=\"text-align: right;\">\n",
       "      <th></th>\n",
       "      <th>product_name</th>\n",
       "      <th>Unit_Price</th>\n",
       "      <th>No_Of_Units</th>\n",
       "      <th>Available_Quantity</th>\n",
       "      <th>Available_Since_Date</th>\n",
       "    </tr>\n",
       "  </thead>\n",
       "  <tbody>\n",
       "    <tr>\n",
       "      <th>0</th>\n",
       "      <td>Keyboard</td>\n",
       "      <td>500.000</td>\n",
       "      <td>5</td>\n",
       "      <td>5</td>\n",
       "      <td>11/5/2021</td>\n",
       "    </tr>\n",
       "    <tr>\n",
       "      <th>1</th>\n",
       "      <td>Mouse</td>\n",
       "      <td>200.000</td>\n",
       "      <td>5</td>\n",
       "      <td>6</td>\n",
       "      <td>4/23/2021</td>\n",
       "    </tr>\n",
       "    <tr>\n",
       "      <th>2</th>\n",
       "      <td>Monitor</td>\n",
       "      <td>5000.235</td>\n",
       "      <td>10</td>\n",
       "      <td>10</td>\n",
       "      <td>08/21/2021</td>\n",
       "    </tr>\n",
       "    <tr>\n",
       "      <th>3</th>\n",
       "      <td>CPU</td>\n",
       "      <td>10000.550</td>\n",
       "      <td>20</td>\n",
       "      <td>Not Available</td>\n",
       "      <td>09/18/2021</td>\n",
       "    </tr>\n",
       "    <tr>\n",
       "      <th>4</th>\n",
       "      <td>CPU</td>\n",
       "      <td>10000.550</td>\n",
       "      <td>20</td>\n",
       "      <td>Not Available</td>\n",
       "      <td>09/18/2021</td>\n",
       "    </tr>\n",
       "  </tbody>\n",
       "</table>\n",
       "</div>"
      ],
      "text/plain": [
       "  product_name  Unit_Price No_Of_Units Available_Quantity Available_Since_Date\n",
       "0     Keyboard     500.000           5                  5            11/5/2021\n",
       "1        Mouse     200.000           5                  6            4/23/2021\n",
       "2      Monitor    5000.235          10                 10           08/21/2021\n",
       "3          CPU   10000.550          20      Not Available           09/18/2021\n",
       "4          CPU   10000.550          20      Not Available           09/18/2021"
      ]
     },
     "execution_count": 44,
     "metadata": {},
     "output_type": "execute_result"
    }
   ],
   "source": [
    "df"
   ]
  },
  {
   "cell_type": "code",
   "execution_count": null,
   "id": "ad42764f",
   "metadata": {},
   "outputs": [],
   "source": []
  },
  {
   "cell_type": "code",
   "execution_count": null,
   "id": "e0729dae",
   "metadata": {},
   "outputs": [],
   "source": []
  },
  {
   "cell_type": "code",
   "execution_count": null,
   "id": "1009ed65",
   "metadata": {},
   "outputs": [],
   "source": []
  }
 ],
 "metadata": {
  "kernelspec": {
   "display_name": "Python 3 (ipykernel)",
   "language": "python",
   "name": "python3"
  },
  "language_info": {
   "codemirror_mode": {
    "name": "ipython",
    "version": 3
   },
   "file_extension": ".py",
   "mimetype": "text/x-python",
   "name": "python",
   "nbconvert_exporter": "python",
   "pygments_lexer": "ipython3",
   "version": "3.10.6"
  }
 },
 "nbformat": 4,
 "nbformat_minor": 5
}

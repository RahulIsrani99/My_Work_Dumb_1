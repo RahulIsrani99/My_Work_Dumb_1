{
 "cells": [
  {
   "cell_type": "code",
   "execution_count": 1,
   "id": "e4964c43",
   "metadata": {},
   "outputs": [],
   "source": [
    "import numpy as np\n",
    "import pandas as pd\n",
    "import math\n",
    "import matplotlib.pyplot as plt "
   ]
  },
  {
   "cell_type": "code",
   "execution_count": 2,
   "id": "bda32f99",
   "metadata": {},
   "outputs": [],
   "source": [
    "data=[{'roomno':['1'],'hotelno':['2'],'address':['idk'],\n",
    "     'das':['dasdsa'],'dsadsa':['dsadsa']},\n",
    "     {'roomno':['2'],'hotelno':['3'],'address':['igk'],\n",
    "     'das':['dasdsdsaa'],'dssadadsa':['dsdsadsadsa']}]\n",
    "\n"
   ]
  },
  {
   "cell_type": "code",
   "execution_count": 3,
   "id": "cdc205cb",
   "metadata": {},
   "outputs": [],
   "source": [
    "pda= pd.DataFrame.from_dict(data)"
   ]
  },
  {
   "cell_type": "code",
   "execution_count": 4,
   "id": "9c6eecdb",
   "metadata": {},
   "outputs": [
    {
     "name": "stdout",
     "output_type": "stream",
     "text": [
      "  roomno hotelno address          das    dsadsa      dssadadsa\n",
      "0    [1]     [2]   [idk]     [dasdsa]  [dsadsa]            NaN\n",
      "1    [2]     [3]   [igk]  [dasdsdsaa]       NaN  [dsdsadsadsa]\n"
     ]
    }
   ],
   "source": [
    "print(pda)"
   ]
  },
  {
   "cell_type": "code",
   "execution_count": 5,
   "id": "406394eb",
   "metadata": {},
   "outputs": [],
   "source": [
    "na=pda.to_csv('friends.csv')"
   ]
  },
  {
   "cell_type": "code",
   "execution_count": null,
   "id": "26f4b879",
   "metadata": {},
   "outputs": [],
   "source": []
  },
  {
   "cell_type": "code",
   "execution_count": 6,
   "id": "c34cbc8d",
   "metadata": {},
   "outputs": [],
   "source": [
    "pf=pd.read_csv('friends.csv')"
   ]
  },
  {
   "cell_type": "code",
   "execution_count": 7,
   "id": "5b8cd9fd",
   "metadata": {},
   "outputs": [
    {
     "name": "stdout",
     "output_type": "stream",
     "text": [
      "   Unnamed: 0 roomno hotelno  address            das      dsadsa        dssadadsa\n",
      "0           0  ['1']   ['2']  ['idk']     ['dasdsa']  ['dsadsa']              NaN\n",
      "1           1  ['2']   ['3']  ['igk']  ['dasdsdsaa']         NaN  ['dsdsadsadsa']\n"
     ]
    }
   ],
   "source": [
    "print(pf.to_string())"
   ]
  },
  {
   "cell_type": "code",
   "execution_count": 8,
   "id": "5bba0aa8",
   "metadata": {},
   "outputs": [],
   "source": [
    "in_array = [0, math.pi / 2, np.pi / 3, np.pi]"
   ]
  },
  {
   "cell_type": "code",
   "execution_count": 9,
   "id": "17fabaa6",
   "metadata": {},
   "outputs": [
    {
     "name": "stdout",
     "output_type": "stream",
     "text": [
      "Input array : \n",
      " [0, 1.5707963267948966, 1.0471975511965976, 3.141592653589793]\n"
     ]
    }
   ],
   "source": [
    "print (\"Input array : \\n\", in_array)"
   ]
  },
  {
   "cell_type": "code",
   "execution_count": 10,
   "id": "72a248cd",
   "metadata": {},
   "outputs": [],
   "source": [
    "myarr=np.array([1,2,3,2,31,21,213,123,23,12,312,321,324,314,421,421])"
   ]
  },
  {
   "cell_type": "code",
   "execution_count": 11,
   "id": "9381de6d",
   "metadata": {},
   "outputs": [
    {
     "data": {
      "text/plain": [
       "array([  1,   2,   3,   2,  31,  21, 213, 123,  23,  12, 312, 321, 324,\n",
       "       314, 421, 421])"
      ]
     },
     "execution_count": 11,
     "metadata": {},
     "output_type": "execute_result"
    }
   ],
   "source": [
    "myarr"
   ]
  },
  {
   "cell_type": "code",
   "execution_count": 12,
   "id": "6604e84e",
   "metadata": {},
   "outputs": [
    {
     "data": {
      "text/plain": [
       "dtype('int32')"
      ]
     },
     "execution_count": 12,
     "metadata": {},
     "output_type": "execute_result"
    }
   ],
   "source": [
    "myarr.dtype"
   ]
  },
  {
   "cell_type": "code",
   "execution_count": 13,
   "id": "b81b280e",
   "metadata": {},
   "outputs": [
    {
     "data": {
      "text/plain": [
       "(16,)"
      ]
     },
     "execution_count": 13,
     "metadata": {},
     "output_type": "execute_result"
    }
   ],
   "source": [
    "myarr.shape"
   ]
  },
  {
   "cell_type": "code",
   "execution_count": 14,
   "id": "3cbae88e",
   "metadata": {},
   "outputs": [
    {
     "data": {
      "text/plain": [
       "array([[  1,   2,   3,   2],\n",
       "       [ 31,  21, 213, 123],\n",
       "       [ 23,  12, 312, 321],\n",
       "       [324, 314, 421, 421]])"
      ]
     },
     "execution_count": 14,
     "metadata": {},
     "output_type": "execute_result"
    }
   ],
   "source": [
    "myarr.reshape(4,4)"
   ]
  },
  {
   "cell_type": "code",
   "execution_count": 15,
   "id": "9f269dd1",
   "metadata": {},
   "outputs": [
    {
     "data": {
      "text/plain": [
       "(16,)"
      ]
     },
     "execution_count": 15,
     "metadata": {},
     "output_type": "execute_result"
    }
   ],
   "source": [
    "myarr.shape"
   ]
  },
  {
   "cell_type": "code",
   "execution_count": 16,
   "id": "f0f8f5e7",
   "metadata": {},
   "outputs": [],
   "source": [
    "myara=myarr.reshape(4,4)"
   ]
  },
  {
   "cell_type": "code",
   "execution_count": 17,
   "id": "da6de5a3",
   "metadata": {},
   "outputs": [
    {
     "data": {
      "text/plain": [
       "array([[  1,   2,   3,   2],\n",
       "       [ 31,  21, 213, 123],\n",
       "       [ 23,  12, 312, 321],\n",
       "       [324, 314, 421, 421]])"
      ]
     },
     "execution_count": 17,
     "metadata": {},
     "output_type": "execute_result"
    }
   ],
   "source": [
    "myara"
   ]
  },
  {
   "cell_type": "code",
   "execution_count": 18,
   "id": "ebc7fdc1",
   "metadata": {},
   "outputs": [
    {
     "data": {
      "text/plain": [
       "(4, 4)"
      ]
     },
     "execution_count": 18,
     "metadata": {},
     "output_type": "execute_result"
    }
   ],
   "source": [
    "myara.shape"
   ]
  },
  {
   "cell_type": "code",
   "execution_count": 19,
   "id": "9543749b",
   "metadata": {},
   "outputs": [],
   "source": [
    "lspace=np.linspace(25,50,11)"
   ]
  },
  {
   "cell_type": "code",
   "execution_count": 20,
   "id": "aac922f6",
   "metadata": {},
   "outputs": [
    {
     "data": {
      "text/plain": [
       "array([25. , 27.5, 30. , 32.5, 35. , 37.5, 40. , 42.5, 45. , 47.5, 50. ])"
      ]
     },
     "execution_count": 20,
     "metadata": {},
     "output_type": "execute_result"
    }
   ],
   "source": [
    "lspace"
   ]
  },
  {
   "cell_type": "code",
   "execution_count": 21,
   "id": "12eb4847",
   "metadata": {},
   "outputs": [],
   "source": [
    "data = {\"product_name\":[\"Keyboard\",\"Mouse\", \"Monitor\", \"CPU\",\"CPU\", \"Speakers\",pd.NaT],\n",
    "        \"Unit_Price\":[500,200, 5000.235, 10000.550, 10000.550, 250.50,None],\n",
    "        \"No_Of_Units\":[5,5, 10, 20, 20, 8,pd.NaT],\n",
    "        \"Available_Quantity\":[5,6,10,\"Not Available\",\"Not Available\", pd.NaT,pd.NaT],\n",
    "        \"Available_Since_Date\":['11/5/2021', '4/23/2021', '08/21/2021','09/18/2021','09/18/2021','01/05/2021',pd.NaT]\n",
    "       }\n"
   ]
  },
  {
   "cell_type": "code",
   "execution_count": 22,
   "id": "9576c75f",
   "metadata": {},
   "outputs": [
    {
     "data": {
      "text/html": [
       "<div>\n",
       "<style scoped>\n",
       "    .dataframe tbody tr th:only-of-type {\n",
       "        vertical-align: middle;\n",
       "    }\n",
       "\n",
       "    .dataframe tbody tr th {\n",
       "        vertical-align: top;\n",
       "    }\n",
       "\n",
       "    .dataframe thead th {\n",
       "        text-align: right;\n",
       "    }\n",
       "</style>\n",
       "<table border=\"1\" class=\"dataframe\">\n",
       "  <thead>\n",
       "    <tr style=\"text-align: right;\">\n",
       "      <th></th>\n",
       "      <th>product_name</th>\n",
       "      <th>Unit_Price</th>\n",
       "      <th>No_Of_Units</th>\n",
       "      <th>Available_Quantity</th>\n",
       "      <th>Available_Since_Date</th>\n",
       "    </tr>\n",
       "  </thead>\n",
       "  <tbody>\n",
       "    <tr>\n",
       "      <th>0</th>\n",
       "      <td>Keyboard</td>\n",
       "      <td>500.000</td>\n",
       "      <td>5</td>\n",
       "      <td>5</td>\n",
       "      <td>11/5/2021</td>\n",
       "    </tr>\n",
       "    <tr>\n",
       "      <th>1</th>\n",
       "      <td>Mouse</td>\n",
       "      <td>200.000</td>\n",
       "      <td>5</td>\n",
       "      <td>6</td>\n",
       "      <td>4/23/2021</td>\n",
       "    </tr>\n",
       "    <tr>\n",
       "      <th>2</th>\n",
       "      <td>Monitor</td>\n",
       "      <td>5000.235</td>\n",
       "      <td>10</td>\n",
       "      <td>10</td>\n",
       "      <td>08/21/2021</td>\n",
       "    </tr>\n",
       "    <tr>\n",
       "      <th>3</th>\n",
       "      <td>CPU</td>\n",
       "      <td>10000.550</td>\n",
       "      <td>20</td>\n",
       "      <td>Not Available</td>\n",
       "      <td>09/18/2021</td>\n",
       "    </tr>\n",
       "    <tr>\n",
       "      <th>4</th>\n",
       "      <td>CPU</td>\n",
       "      <td>10000.550</td>\n",
       "      <td>20</td>\n",
       "      <td>Not Available</td>\n",
       "      <td>09/18/2021</td>\n",
       "    </tr>\n",
       "    <tr>\n",
       "      <th>5</th>\n",
       "      <td>Speakers</td>\n",
       "      <td>250.500</td>\n",
       "      <td>8</td>\n",
       "      <td>NaT</td>\n",
       "      <td>01/05/2021</td>\n",
       "    </tr>\n",
       "    <tr>\n",
       "      <th>6</th>\n",
       "      <td>NaT</td>\n",
       "      <td>NaN</td>\n",
       "      <td>NaT</td>\n",
       "      <td>NaT</td>\n",
       "      <td>NaT</td>\n",
       "    </tr>\n",
       "  </tbody>\n",
       "</table>\n",
       "</div>"
      ],
      "text/plain": [
       "  product_name  Unit_Price No_Of_Units Available_Quantity Available_Since_Date\n",
       "0     Keyboard     500.000           5                  5            11/5/2021\n",
       "1        Mouse     200.000           5                  6            4/23/2021\n",
       "2      Monitor    5000.235          10                 10           08/21/2021\n",
       "3          CPU   10000.550          20      Not Available           09/18/2021\n",
       "4          CPU   10000.550          20      Not Available           09/18/2021\n",
       "5     Speakers     250.500           8                NaT           01/05/2021\n",
       "6          NaT         NaN         NaT                NaT                  NaT"
      ]
     },
     "execution_count": 22,
     "metadata": {},
     "output_type": "execute_result"
    }
   ],
   "source": [
    "df = pd.DataFrame(data)\n",
    "df"
   ]
  },
  {
   "cell_type": "code",
   "execution_count": 23,
   "id": "dc2db8d5",
   "metadata": {},
   "outputs": [],
   "source": [
    "df.drop([5,6], axis=0, inplace=True)"
   ]
  },
  {
   "cell_type": "code",
   "execution_count": 24,
   "id": "c3b0670f",
   "metadata": {},
   "outputs": [
    {
     "data": {
      "text/html": [
       "<div>\n",
       "<style scoped>\n",
       "    .dataframe tbody tr th:only-of-type {\n",
       "        vertical-align: middle;\n",
       "    }\n",
       "\n",
       "    .dataframe tbody tr th {\n",
       "        vertical-align: top;\n",
       "    }\n",
       "\n",
       "    .dataframe thead th {\n",
       "        text-align: right;\n",
       "    }\n",
       "</style>\n",
       "<table border=\"1\" class=\"dataframe\">\n",
       "  <thead>\n",
       "    <tr style=\"text-align: right;\">\n",
       "      <th></th>\n",
       "      <th>product_name</th>\n",
       "      <th>Unit_Price</th>\n",
       "      <th>No_Of_Units</th>\n",
       "      <th>Available_Quantity</th>\n",
       "      <th>Available_Since_Date</th>\n",
       "    </tr>\n",
       "  </thead>\n",
       "  <tbody>\n",
       "    <tr>\n",
       "      <th>0</th>\n",
       "      <td>Keyboard</td>\n",
       "      <td>500.000</td>\n",
       "      <td>5</td>\n",
       "      <td>5</td>\n",
       "      <td>11/5/2021</td>\n",
       "    </tr>\n",
       "    <tr>\n",
       "      <th>1</th>\n",
       "      <td>Mouse</td>\n",
       "      <td>200.000</td>\n",
       "      <td>5</td>\n",
       "      <td>6</td>\n",
       "      <td>4/23/2021</td>\n",
       "    </tr>\n",
       "    <tr>\n",
       "      <th>2</th>\n",
       "      <td>Monitor</td>\n",
       "      <td>5000.235</td>\n",
       "      <td>10</td>\n",
       "      <td>10</td>\n",
       "      <td>08/21/2021</td>\n",
       "    </tr>\n",
       "    <tr>\n",
       "      <th>3</th>\n",
       "      <td>CPU</td>\n",
       "      <td>10000.550</td>\n",
       "      <td>20</td>\n",
       "      <td>Not Available</td>\n",
       "      <td>09/18/2021</td>\n",
       "    </tr>\n",
       "    <tr>\n",
       "      <th>4</th>\n",
       "      <td>CPU</td>\n",
       "      <td>10000.550</td>\n",
       "      <td>20</td>\n",
       "      <td>Not Available</td>\n",
       "      <td>09/18/2021</td>\n",
       "    </tr>\n",
       "  </tbody>\n",
       "</table>\n",
       "</div>"
      ],
      "text/plain": [
       "  product_name  Unit_Price No_Of_Units Available_Quantity Available_Since_Date\n",
       "0     Keyboard     500.000           5                  5            11/5/2021\n",
       "1        Mouse     200.000           5                  6            4/23/2021\n",
       "2      Monitor    5000.235          10                 10           08/21/2021\n",
       "3          CPU   10000.550          20      Not Available           09/18/2021\n",
       "4          CPU   10000.550          20      Not Available           09/18/2021"
      ]
     },
     "execution_count": 24,
     "metadata": {},
     "output_type": "execute_result"
    }
   ],
   "source": [
    "df"
   ]
  },
  {
   "cell_type": "code",
   "execution_count": 25,
   "id": "ad42764f",
   "metadata": {},
   "outputs": [],
   "source": [
    "x = [1,2,3] \n",
    "# corresponding y axis values \n",
    "y = [2,4,1]"
   ]
  },
  {
   "cell_type": "code",
   "execution_count": 26,
   "id": "e0729dae",
   "metadata": {},
   "outputs": [
    {
     "data": {
      "text/plain": [
       "[<matplotlib.lines.Line2D at 0x2f739533ee0>]"
      ]
     },
     "execution_count": 26,
     "metadata": {},
     "output_type": "execute_result"
    },
    {
     "data": {
      "image/png": "[encoded data removed]",
      "text/plain": [
       "<Figure size 640x480 with 1 Axes>"
      ]
     },
     "metadata": {},
     "output_type": "display_data"
    }
   ],
   "source": [
    "plt.plot(x,y)"
   ]
  },
  {
   "cell_type": "code",
   "execution_count": 27,
   "id": "1009ed65",
   "metadata": {},
   "outputs": [
    {
     "data": {
      "text/plain": [
       "[<matplotlib.lines.Line2D at 0x2f73b7a7370>]"
      ]
     },
     "execution_count": 27,
     "metadata": {},
     "output_type": "execute_result"
    },
    {
     "data": {
      "image/png": "[encoded data removed]",
      "text/plain": [
       "<Figure size 640x480 with 1 Axes>"
      ]
     },
     "metadata": {},
     "output_type": "display_data"
    }
   ],
   "source": [
    "plt.plot(y,x)"
   ]
  },
  {
   "cell_type": "code",
   "execution_count": 28,
   "id": "bd696a1f",
   "metadata": {},
   "outputs": [
    {
     "data": {
      "text/plain": [
       "Text(0.5, 0, 'x - axis')"
      ]
     },
     "execution_count": 28,
     "metadata": {},
     "output_type": "execute_result"
    },
    {
     "data": {
      "image/png": "[encoded data removed]",
      "text/plain": [
       "<Figure size 640x480 with 1 Axes>"
      ]
     },
     "metadata": {},
     "output_type": "display_data"
    }
   ],
   "source": [
    "plt.xlabel('x - axis') "
   ]
  },
  {
   "cell_type": "code",
   "execution_count": 29,
   "id": "c96c0f2d",
   "metadata": {},
   "outputs": [
    {
     "data": {
      "text/plain": [
       "Text(0, 0.5, 'y - axis')"
      ]
     },
     "execution_count": 29,
     "metadata": {},
     "output_type": "execute_result"
    },
    {
     "data": {
      "image/png": "[encoded data removed]",
      "text/plain": [
       "<Figure size 640x480 with 1 Axes>"
      ]
     },
     "metadata": {},
     "output_type": "display_data"
    }
   ],
   "source": [
    "plt.ylabel('y - axis') "
   ]
  },
  {
   "cell_type": "code",
   "execution_count": 30,
   "id": "cfd5bcf5",
   "metadata": {},
   "outputs": [
    {
     "data": {
      "text/plain": [
       "Text(0.5, 0, 'x - axis')"
      ]
     },
     "execution_count": 30,
     "metadata": {},
     "output_type": "execute_result"
    },
    {
     "data": {
      "image/png": "[encoded data removed]",
      "text/plain": [
       "<Figure size 640x480 with 1 Axes>"
      ]
     },
     "metadata": {},
     "output_type": "display_data"
    }
   ],
   "source": [
    "plt.ylabel('y - axis') \n",
    "plt.xlabel('x - axis') "
   ]
  },
  {
   "cell_type": "code",
   "execution_count": 31,
   "id": "59ea3eed",
   "metadata": {},
   "outputs": [
    {
     "data": {
      "image/png": "[encoded data removed]",
      "text/plain": [
       "<Figure size 640x480 with 1 Axes>"
      ]
     },
     "metadata": {},
     "output_type": "display_data"
    }
   ],
   "source": [
    "x = [1,2,3] \n",
    "# corresponding y axis values \n",
    "y = [2,4,1] \n",
    "    \n",
    "# plotting the points  \n",
    "plt.plot(x, y) \n",
    "    \n",
    "# naming the x axis \n",
    "plt.xlabel('x - axis') \n",
    "# naming the y axis \n",
    "plt.ylabel('y - axis') \n",
    "    \n",
    "# giving a title to my graph \n",
    "plt.title('My first graph!') \n",
    "    \n",
    "# function to show the plot \n",
    "plt.show() "
   ]
  },
  {
   "cell_type": "code",
   "execution_count": 32,
   "id": "2ece4b53",
   "metadata": {},
   "outputs": [
    {
     "data": {
      "image/png": "[encoded data removed]",
      "text/plain": [
       "<Figure size 640x480 with 1 Axes>"
      ]
     },
     "metadata": {},
     "output_type": "display_data"
    }
   ],
   "source": [
    "import matplotlib.pyplot as plt\n",
    "\n",
    "\n",
    "a = [1, 2, 3, 4, 5]\n",
    "b = [0, 0.6, 0.2, 15, 10, 8, 16, 21]\n",
    "plt.plot(a)\n",
    "\n",
    "# o is for circles and r is\n",
    "# for red\n",
    "plt.plot(b, \"or\")\n",
    "\n",
    "plt.plot(list(range(0, 22, 3)))\n",
    "\n",
    "# naming the x-axis\n",
    "plt.xlabel('Day ->')\n",
    "\n",
    "# naming the y-axis\n",
    "plt.ylabel('Temp ->')\n",
    "\n",
    "c = [4, 2, 6, 8, 3, 20, 13, 15]\n",
    "plt.plot(c, label = '4th Rep')\n",
    "\n",
    "# get current axes command\n",
    "ax = plt.gca()\n",
    "\n",
    "# get command over the individual\n",
    "# boundary line of the graph body\n",
    "ax.spines['right'].set_visible(False)\n",
    "ax.spines['top'].set_visible(False)\n",
    "\n",
    "# set the range or the bounds of\n",
    "# the left boundary line to fixed range\n",
    "ax.spines['left'].set_bounds(-3, 40)\n",
    "\n",
    "# set the interval by which\n",
    "# the x-axis set the marks\n",
    "plt.xticks(list(range(-3, 10)))\n",
    "\n",
    "# set the intervals by which y-axis\n",
    "# set the marks\n",
    "plt.yticks(list(range(-3, 20, 3)))\n",
    "\n",
    "# legend denotes that what color\n",
    "# signifies what\n",
    "ax.legend(['1st Rep', '2nd Rep', '3rd Rep', '4th Rep'])\n",
    "\n",
    "# annotate command helps to write\n",
    "# ON THE GRAPH any text xy denotes\n",
    "# the position on the graph\n",
    "plt.annotate('Temperature V / s Days', xy = (1.01, -2.15))\n",
    "\n",
    "# gives a title to the Graph\n",
    "plt.title('All Features Discussed')\n",
    "\n",
    "plt.show()\n"
   ]
  },
  {
   "cell_type": "code",
   "execution_count": 33,
   "id": "4107497a",
   "metadata": {},
   "outputs": [
    {
     "data": {
      "text/html": [
       "<style type=\"text/css\">\n",
       "#T_38eb2 th {\n",
       "  text-align: left;\n",
       "}\n",
       "#T_38eb2_row0_col0, #T_38eb2_row0_col1, #T_38eb2_row0_col2, #T_38eb2_row0_col3, #T_38eb2_row1_col0, #T_38eb2_row1_col1, #T_38eb2_row1_col2, #T_38eb2_row1_col3, #T_38eb2_row2_col0, #T_38eb2_row2_col1, #T_38eb2_row2_col2, #T_38eb2_row2_col3 {\n",
       "  text-align: left;\n",
       "}\n",
       "</style>\n",
       "<table id=\"T_38eb2\">\n",
       "  <thead>\n",
       "    <tr>\n",
       "      <th class=\"blank level0\" >&nbsp;</th>\n",
       "      <th id=\"T_38eb2_level0_col0\" class=\"col_heading level0 col0\" >0</th>\n",
       "      <th id=\"T_38eb2_level0_col1\" class=\"col_heading level0 col1\" >1</th>\n",
       "      <th id=\"T_38eb2_level0_col2\" class=\"col_heading level0 col2\" >2</th>\n",
       "      <th id=\"T_38eb2_level0_col3\" class=\"col_heading level0 col3\" >3</th>\n",
       "    </tr>\n",
       "  </thead>\n",
       "  <tbody>\n",
       "    <tr>\n",
       "      <th id=\"T_38eb2_level0_row0\" class=\"row_heading level0 row0\" >0</th>\n",
       "      <td id=\"T_38eb2_row0_col0\" class=\"data row0 col0\" >Raghav</td>\n",
       "      <td id=\"T_38eb2_row0_col1\" class=\"data row0 col1\" >Jeeva</td>\n",
       "      <td id=\"T_38eb2_row0_col2\" class=\"data row0 col2\" >Imon</td>\n",
       "      <td id=\"T_38eb2_row0_col3\" class=\"data row0 col3\" >Sandeep</td>\n",
       "    </tr>\n",
       "    <tr>\n",
       "      <th id=\"T_38eb2_level0_row1\" class=\"row_heading level0 row1\" >1</th>\n",
       "      <td id=\"T_38eb2_row1_col0\" class=\"data row1 col0\" >Deloitte</td>\n",
       "      <td id=\"T_38eb2_row1_col1\" class=\"data row1 col1\" >Apple</td>\n",
       "      <td id=\"T_38eb2_row1_col2\" class=\"data row1 col2\" >Amazon</td>\n",
       "      <td id=\"T_38eb2_row1_col3\" class=\"data row1 col3\" >Flipkart</td>\n",
       "    </tr>\n",
       "    <tr>\n",
       "      <th id=\"T_38eb2_level0_row2\" class=\"row_heading level0 row2\" >2</th>\n",
       "      <td id=\"T_38eb2_row2_col0\" class=\"data row2 col0\" >2</td>\n",
       "      <td id=\"T_38eb2_row2_col1\" class=\"data row2 col1\" >3</td>\n",
       "      <td id=\"T_38eb2_row2_col2\" class=\"data row2 col2\" >7</td>\n",
       "      <td id=\"T_38eb2_row2_col3\" class=\"data row2 col3\" >8</td>\n",
       "    </tr>\n",
       "  </tbody>\n",
       "</table>\n"
      ],
      "text/plain": [
       "<pandas.io.formats.style.Styler at 0x2f73b6b4fd0>"
      ]
     },
     "metadata": {},
     "output_type": "display_data"
    }
   ],
   "source": [
    "import pandas as pd\n",
    "\n",
    "# initialise data of lists.\n",
    "data = [['Raghav', 'Jeeva', 'Imon', 'Sandeep'],\n",
    "\t\t['Deloitte', 'Apple', 'Amazon', 'Flipkart'],\n",
    "\t\t[2,3,7,8]]\n",
    "\n",
    "# Create DataFrame\n",
    "df = pd.DataFrame(data)\n",
    "left_aligned_df = df.style.set_properties(**{'text-align': 'left'})\n",
    "\n",
    "left_aligned_df = left_aligned_df.set_table_styles(\n",
    "[dict(selector = 'th', props=[('text-align', 'left')])])\n",
    "\n",
    "display(left_aligned_df)\n"
   ]
  },
  {
   "cell_type": "code",
   "execution_count": 34,
   "id": "8ec03b1c",
   "metadata": {},
   "outputs": [
    {
     "name": "stdout",
     "output_type": "stream",
     "text": [
      "    cars  passings\n",
      "0    BMW         3\n",
      "1  Volvo         7\n",
      "2   Ford         2\n"
     ]
    }
   ],
   "source": [
    "mydataset = {\n",
    "  'cars': [\"BMW\", \"Volvo\", \"Ford\"],\n",
    "  'passings': [3, 7, 2]\n",
    "}\n",
    "\n",
    "myvar = pd.DataFrame(mydataset)\n",
    "\n",
    "print(myvar)"
   ]
  },
  {
   "cell_type": "code",
   "execution_count": 35,
   "id": "e5899a94",
   "metadata": {},
   "outputs": [],
   "source": [
    "myvasr=myvar.to_csv(\"hello.csv\")"
   ]
  },
  {
   "cell_type": "code",
   "execution_count": 36,
   "id": "8412130c",
   "metadata": {},
   "outputs": [],
   "source": [
    "myvasr=pd.read_csv(\"hello.csv\")"
   ]
  },
  {
   "cell_type": "code",
   "execution_count": 37,
   "id": "0dd6753b",
   "metadata": {},
   "outputs": [
    {
     "name": "stdout",
     "output_type": "stream",
     "text": [
      "   Unnamed: 0   cars  passings\n",
      "0           0    BMW         3\n",
      "1           1  Volvo         7\n",
      "2           2   Ford         2\n"
     ]
    }
   ],
   "source": [
    "print(myvasr)"
   ]
  },
  {
   "cell_type": "code",
   "execution_count": 38,
   "id": "bc39657f",
   "metadata": {},
   "outputs": [
    {
     "name": "stdout",
     "output_type": "stream",
     "text": [
      "day1    420\n",
      "day2    380\n",
      "dtype: int64\n"
     ]
    }
   ],
   "source": [
    "calories = {\"day1\": 420, \"day2\": 380, \"day3\": 390}\n",
    "\n",
    "myvar = pd.Series(calories, index = [\"day1\", \"day2\"])\n",
    "\n",
    "print(myvar)"
   ]
  },
  {
   "cell_type": "code",
   "execution_count": 39,
   "id": "81daafce",
   "metadata": {},
   "outputs": [],
   "source": [
    "myvar=myvar.to_csv(\"myvar.csv\")"
   ]
  },
  {
   "cell_type": "code",
   "execution_count": 40,
   "id": "4d782414",
   "metadata": {},
   "outputs": [],
   "source": [
    "myvar=pd.read_csv(\"myvar.csv\")"
   ]
  },
  {
   "cell_type": "code",
   "execution_count": 41,
   "id": "6f14ac82",
   "metadata": {},
   "outputs": [
    {
     "data": {
      "text/html": [
       "<div>\n",
       "<style scoped>\n",
       "    .dataframe tbody tr th:only-of-type {\n",
       "        vertical-align: middle;\n",
       "    }\n",
       "\n",
       "    .dataframe tbody tr th {\n",
       "        vertical-align: top;\n",
       "    }\n",
       "\n",
       "    .dataframe thead th {\n",
       "        text-align: right;\n",
       "    }\n",
       "</style>\n",
       "<table border=\"1\" class=\"dataframe\">\n",
       "  <thead>\n",
       "    <tr style=\"text-align: right;\">\n",
       "      <th></th>\n",
       "      <th>Unnamed: 0</th>\n",
       "      <th>0</th>\n",
       "    </tr>\n",
       "  </thead>\n",
       "  <tbody>\n",
       "    <tr>\n",
       "      <th>0</th>\n",
       "      <td>day1</td>\n",
       "      <td>420</td>\n",
       "    </tr>\n",
       "    <tr>\n",
       "      <th>1</th>\n",
       "      <td>day2</td>\n",
       "      <td>380</td>\n",
       "    </tr>\n",
       "  </tbody>\n",
       "</table>\n",
       "</div>"
      ],
      "text/plain": [
       "  Unnamed: 0    0\n",
       "0       day1  420\n",
       "1       day2  380"
      ]
     },
     "execution_count": 41,
     "metadata": {},
     "output_type": "execute_result"
    }
   ],
   "source": [
    "myvar"
   ]
  },
  {
   "cell_type": "code",
   "execution_count": 43,
   "id": "33b8094f",
   "metadata": {},
   "outputs": [],
   "source": [
    "zeros =np.zeros((2,5))"
   ]
  },
  {
   "cell_type": "code",
   "execution_count": 44,
   "id": "f100f8c5",
   "metadata": {},
   "outputs": [
    {
     "data": {
      "text/plain": [
       "array([[0., 0., 0., 0., 0.],\n",
       "       [0., 0., 0., 0., 0.]])"
      ]
     },
     "execution_count": 44,
     "metadata": {},
     "output_type": "execute_result"
    }
   ],
   "source": [
    "zeros"
   ]
  },
  {
   "cell_type": "code",
   "execution_count": 45,
   "id": "4aec3030",
   "metadata": {},
   "outputs": [],
   "source": [
    "rng =np.arange(0,15)"
   ]
  },
  {
   "cell_type": "code",
   "execution_count": 46,
   "id": "cb767cf8",
   "metadata": {},
   "outputs": [
    {
     "data": {
      "text/plain": [
       "array([ 0,  1,  2,  3,  4,  5,  6,  7,  8,  9, 10, 11, 12, 13, 14])"
      ]
     },
     "execution_count": 46,
     "metadata": {},
     "output_type": "execute_result"
    }
   ],
   "source": [
    "rng"
   ]
  },
  {
   "cell_type": "code",
   "execution_count": 54,
   "id": "090e14a9",
   "metadata": {},
   "outputs": [],
   "source": [
    "lspase=np.linspace(10,50,10)"
   ]
  },
  {
   "cell_type": "code",
   "execution_count": 56,
   "id": "10a7cf61",
   "metadata": {},
   "outputs": [
    {
     "data": {
      "text/plain": [
       "array([25. , 27.5, 30. , 32.5, 35. , 37.5, 40. , 42.5, 45. , 47.5, 50. ])"
      ]
     },
     "execution_count": 56,
     "metadata": {},
     "output_type": "execute_result"
    }
   ],
   "source": [
    "lspace"
   ]
  },
  {
   "cell_type": "code",
   "execution_count": 58,
   "id": "6af95ea3",
   "metadata": {},
   "outputs": [],
   "source": [
    "emp=np.empty((4,6))"
   ]
  },
  {
   "cell_type": "code",
   "execution_count": 59,
   "id": "4527ad6e",
   "metadata": {},
   "outputs": [
    {
     "data": {
      "text/plain": [
       "array([[0.2 , 0.2 , 0.6 , 1.  , 0.  , 0.6 ],\n",
       "       [1.  , 1.  , 0.  , 0.8 , 0.4 , 1.  ],\n",
       "       [1.  , 1.  , 0.6 , 1.  , 0.5 , 0.36],\n",
       "       [0.33, 1.  , 1.  , 1.  , 1.  , 1.  ]])"
      ]
     },
     "execution_count": 59,
     "metadata": {},
     "output_type": "execute_result"
    }
   ],
   "source": [
    "emp"
   ]
  },
  {
   "cell_type": "code",
   "execution_count": 60,
   "id": "bcfc23e4",
   "metadata": {},
   "outputs": [],
   "source": [
    "data=[{'roomno':['1'],'hotelno':['2'],'address':['idk'],\n",
    "     'das':['dasdsa'],'dsadsa':['dsadsa']},\n",
    "     {'roomno':['2'],'hotelno':['3'],'address':['igk'],\n",
    "     'das':['dasdsdsaa'],'dssadadsa':['dsdsadsadsa']}]"
   ]
  },
  {
   "cell_type": "code",
   "execution_count": 61,
   "id": "c3b9ef32",
   "metadata": {},
   "outputs": [],
   "source": [
    "df=pd.DataFrame(data)"
   ]
  },
  {
   "cell_type": "code",
   "execution_count": 62,
   "id": "c8e76aa1",
   "metadata": {},
   "outputs": [
    {
     "data": {
      "text/html": [
       "<div>\n",
       "<style scoped>\n",
       "    .dataframe tbody tr th:only-of-type {\n",
       "        vertical-align: middle;\n",
       "    }\n",
       "\n",
       "    .dataframe tbody tr th {\n",
       "        vertical-align: top;\n",
       "    }\n",
       "\n",
       "    .dataframe thead th {\n",
       "        text-align: right;\n",
       "    }\n",
       "</style>\n",
       "<table border=\"1\" class=\"dataframe\">\n",
       "  <thead>\n",
       "    <tr style=\"text-align: right;\">\n",
       "      <th></th>\n",
       "      <th>roomno</th>\n",
       "      <th>hotelno</th>\n",
       "      <th>address</th>\n",
       "      <th>das</th>\n",
       "      <th>dsadsa</th>\n",
       "      <th>dssadadsa</th>\n",
       "    </tr>\n",
       "  </thead>\n",
       "  <tbody>\n",
       "    <tr>\n",
       "      <th>0</th>\n",
       "      <td>[1]</td>\n",
       "      <td>[2]</td>\n",
       "      <td>[idk]</td>\n",
       "      <td>[dasdsa]</td>\n",
       "      <td>[dsadsa]</td>\n",
       "      <td>NaN</td>\n",
       "    </tr>\n",
       "    <tr>\n",
       "      <th>1</th>\n",
       "      <td>[2]</td>\n",
       "      <td>[3]</td>\n",
       "      <td>[igk]</td>\n",
       "      <td>[dasdsdsaa]</td>\n",
       "      <td>NaN</td>\n",
       "      <td>[dsdsadsadsa]</td>\n",
       "    </tr>\n",
       "  </tbody>\n",
       "</table>\n",
       "</div>"
      ],
      "text/plain": [
       "  roomno hotelno address          das    dsadsa      dssadadsa\n",
       "0    [1]     [2]   [idk]     [dasdsa]  [dsadsa]            NaN\n",
       "1    [2]     [3]   [igk]  [dasdsdsaa]       NaN  [dsdsadsadsa]"
      ]
     },
     "execution_count": 62,
     "metadata": {},
     "output_type": "execute_result"
    }
   ],
   "source": [
    "df"
   ]
  },
  {
   "cell_type": "code",
   "execution_count": 63,
   "id": "3f4dc584",
   "metadata": {},
   "outputs": [],
   "source": [
    "ja=pd.read_csv(\"hello.csv\")"
   ]
  },
  {
   "cell_type": "code",
   "execution_count": 64,
   "id": "3f4d1e4e",
   "metadata": {},
   "outputs": [
    {
     "data": {
      "text/html": [
       "<div>\n",
       "<style scoped>\n",
       "    .dataframe tbody tr th:only-of-type {\n",
       "        vertical-align: middle;\n",
       "    }\n",
       "\n",
       "    .dataframe tbody tr th {\n",
       "        vertical-align: top;\n",
       "    }\n",
       "\n",
       "    .dataframe thead th {\n",
       "        text-align: right;\n",
       "    }\n",
       "</style>\n",
       "<table border=\"1\" class=\"dataframe\">\n",
       "  <thead>\n",
       "    <tr style=\"text-align: right;\">\n",
       "      <th></th>\n",
       "      <th>Unnamed: 0</th>\n",
       "      <th>cars</th>\n",
       "      <th>passings</th>\n",
       "    </tr>\n",
       "  </thead>\n",
       "  <tbody>\n",
       "    <tr>\n",
       "      <th>0</th>\n",
       "      <td>0</td>\n",
       "      <td>BMW</td>\n",
       "      <td>3</td>\n",
       "    </tr>\n",
       "    <tr>\n",
       "      <th>1</th>\n",
       "      <td>1</td>\n",
       "      <td>Volvo</td>\n",
       "      <td>7</td>\n",
       "    </tr>\n",
       "    <tr>\n",
       "      <th>2</th>\n",
       "      <td>2</td>\n",
       "      <td>Ford</td>\n",
       "      <td>2</td>\n",
       "    </tr>\n",
       "  </tbody>\n",
       "</table>\n",
       "</div>"
      ],
      "text/plain": [
       "   Unnamed: 0   cars  passings\n",
       "0           0    BMW         3\n",
       "1           1  Volvo         7\n",
       "2           2   Ford         2"
      ]
     },
     "execution_count": 64,
     "metadata": {},
     "output_type": "execute_result"
    }
   ],
   "source": [
    "ja"
   ]
  },
  {
   "cell_type": "code",
   "execution_count": 65,
   "id": "3ee75faa",
   "metadata": {},
   "outputs": [
    {
     "ename": "NameError",
     "evalue": "name 'cars' is not defined",
     "output_type": "error",
     "traceback": [
      "\u001b[1;31m---------------------------------------------------------------------------\u001b[0m",
      "\u001b[1;31mNameError\u001b[0m                                 Traceback (most recent call last)",
      "Input \u001b[1;32mIn [65]\u001b[0m, in \u001b[0;36m<cell line: 1>\u001b[1;34m()\u001b[0m\n\u001b[1;32m----> 1\u001b[0m ja[\u001b[43mcars\u001b[49m]\n",
      "\u001b[1;31mNameError\u001b[0m: name 'cars' is not defined"
     ]
    }
   ],
   "source": [
    "ja[cars]"
   ]
  },
  {
   "cell_type": "code",
   "execution_count": 66,
   "id": "73b22208",
   "metadata": {},
   "outputs": [
    {
     "ename": "NameError",
     "evalue": "name 'cars' is not defined",
     "output_type": "error",
     "traceback": [
      "\u001b[1;31m---------------------------------------------------------------------------\u001b[0m",
      "\u001b[1;31mNameError\u001b[0m                                 Traceback (most recent call last)",
      "Input \u001b[1;32mIn [66]\u001b[0m, in \u001b[0;36m<cell line: 1>\u001b[1;34m()\u001b[0m\n\u001b[1;32m----> 1\u001b[0m ja[\u001b[43mcars\u001b[49m][\u001b[38;5;241m0\u001b[39m]\n",
      "\u001b[1;31mNameError\u001b[0m: name 'cars' is not defined"
     ]
    }
   ],
   "source": [
    "ja[cars][0]"
   ]
  },
  {
   "cell_type": "code",
   "execution_count": null,
   "id": "7c9e51c9",
   "metadata": {},
   "outputs": [],
   "source": []
  }
 ],
 "metadata": {
  "kernelspec": {
   "display_name": "Python 3 (ipykernel)",
   "language": "python",
   "name": "python3"
  },
  "language_info": {
   "codemirror_mode": {
    "name": "ipython",
    "version": 3
   },
   "file_extension": ".py",
   "mimetype": "text/x-python",
   "name": "python",
   "nbconvert_exporter": "python",
   "pygments_lexer": "ipython3",
   "version": "3.10.6"
  }
 },
 "nbformat": 4,
 "nbformat_minor": 5
}

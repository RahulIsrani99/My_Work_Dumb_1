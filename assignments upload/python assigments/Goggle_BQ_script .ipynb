{
 "cells": [
  {
   "cell_type": "code",
   "execution_count": 1,
   "id": "7a8d9251",
   "metadata": {},
   "outputs": [],
   "source": [
    "from google.cloud import bigquery\n",
    "import os"
   ]
  },
  {
   "cell_type": "code",
   "execution_count": 3,
   "id": "54d5395f",
   "metadata": {},
   "outputs": [],
   "source": [
    "\n",
    "\n",
    "credentials_path = '/Users/jatinkeshwani/Documents/pythonBQ.json'\n",
    "os.environ['GOOGLE_APPLICATION_CREDENTIALS'] = credentials_path\n",
    "\n",
    "client = bigquery.Client()\n",
    "table_id = 'main-depot-365310.garden.gardon-sensors'\n",
    "\n",
    "rows_to_insert = [\n",
    "    {u'sensorName':'Ezz_garden', u'temperature': 45.00, u'humidity':32.1},\n",
    "    {u'sensorName':'Ezz_garden2', u'temperature': 44.12, u'humidity':33.1},\n",
    "]\n",
    "\n",
    "\n"
   ]
  },
  {
   "cell_type": "code",
   "execution_count": null,
   "id": "fcbb85df",
   "metadata": {},
   "outputs": [],
   "source": []
  }
 ],
 "metadata": {
  "kernelspec": {
   "display_name": "Python 3 (ipykernel)",
   "language": "python",
   "name": "python3"
  },
  "language_info": {
   "codemirror_mode": {
    "name": "ipython",
    "version": 3
   },
   "file_extension": ".py",
   "mimetype": "text/x-python",
   "name": "python",
   "nbconvert_exporter": "python",
   "pygments_lexer": "ipython3",
   "version": "3.10.7"
  }
 },
 "nbformat": 4,
 "nbformat_minor": 5
}
